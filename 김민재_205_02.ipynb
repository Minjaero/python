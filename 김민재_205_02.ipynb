{
  "nbformat": 4,
  "nbformat_minor": 0,
  "metadata": {
    "colab": {
      "provenance": [],
      "include_colab_link": true
    },
    "kernelspec": {
      "name": "python3",
      "display_name": "Python 3"
    },
    "language_info": {
      "name": "python"
    }
  },
  "cells": [
    {
      "cell_type": "markdown",
      "metadata": {
        "id": "view-in-github",
        "colab_type": "text"
      },
      "source": [
        "<a href=\"https://colab.research.google.com/github/Minjaero/python/blob/main/%EA%B9%80%EB%AF%BC%EC%9E%AC_205_02.ipynb\" target=\"_parent\"><img src=\"https://colab.research.google.com/assets/colab-badge.svg\" alt=\"Open In Colab\"/></a>"
      ]
    },
    {
      "cell_type": "code",
      "source": [],
      "metadata": {
        "id": "U8R5ck0ntas7"
      },
      "execution_count": null,
      "outputs": []
    },
    {
      "cell_type": "code",
      "source": [
        "price = input('가격을 입력하세요:')\n",
        "num = input('개수를 입력하세요:')\n",
        "sum = int(price) * int(num)\n",
        "print('총액은', sum , '원입니다')"
      ],
      "metadata": {
        "colab": {
          "base_uri": "https://localhost:8080/"
        },
        "id": "brT6g_gCr__b",
        "outputId": "097b994f-b804-4a24-8b69-8b41ae1da8a9"
      },
      "execution_count": 6,
      "outputs": [
        {
          "output_type": "stream",
          "name": "stdout",
          "text": [
            "가격을 입력하세요:100\n",
            "개수를 입력하세요:5\n",
            "총액은 500 원입니다\n"
          ]
        }
      ]
    },
    {
      "cell_type": "code",
      "source": [
        "Garo = input('가로를 입력하세요:')\n",
        "Sero = input('세로를 입력하세요:')\n",
        "sum = int(Garo) * int(Sero)\n",
        "print('사각형의 면적은', sum, '입니다')"
      ],
      "metadata": {
        "colab": {
          "base_uri": "https://localhost:8080/"
        },
        "id": "SXy9-FKSwIrF",
        "outputId": "44256ea9-2abd-4258-aa91-ea2e22d6d813"
      },
      "execution_count": 8,
      "outputs": [
        {
          "output_type": "stream",
          "name": "stdout",
          "text": [
            "가로를 입력하세요:5\n",
            "세로를 입력하세요:10\n",
            "사각형의 면적은 50 입니다\n"
          ]
        }
      ]
    },
    {
      "cell_type": "code",
      "source": [
        "name = input('이름?')\n",
        "birth = int(input('태어난 해는?'))\n",
        "age = 2023 - birth + 1 \n",
        "print(name, '님의 나이는', age, '입니다')"
      ],
      "metadata": {
        "colab": {
          "base_uri": "https://localhost:8080/"
        },
        "id": "dCj5KKK20FF1",
        "outputId": "90bc3ef5-d193-4b6e-9679-889de3b3c474"
      },
      "execution_count": 13,
      "outputs": [
        {
          "output_type": "stream",
          "name": "stdout",
          "text": [
            "이름?민재\n",
            "태어난 해는?2006\n",
            "민재 님의 나이는 18 입니다\n"
          ]
        }
      ]
    },
    {
      "cell_type": "code",
      "source": [
        "price = int(input('물건의 개수?'))\n",
        "num = int(input('물건의 구매 개수?'))\n",
        "money = int(input('지불한 돈?'))\n",
        "change = money - price * num\n",
        "print('거스름 돈은' , change, '원입니다.')"
      ],
      "metadata": {
        "colab": {
          "base_uri": "https://localhost:8080/"
        },
        "id": "aflQK55p1TY-",
        "outputId": "f618f70d-eab4-461e-c0bf-7f00b08bee62"
      },
      "execution_count": 12,
      "outputs": [
        {
          "output_type": "stream",
          "name": "stdout",
          "text": [
            "물건의 개수?500\n",
            "물건의 구매 개수?4\n",
            "지불한 돈?5000\n",
            "거스름 돈은 3000 원입니다.\n"
          ]
        }
      ]
    },
    {
      "cell_type": "code",
      "source": [
        "print( type('안녕하세요'))\n",
        "print( type(273))\n",
        "print( type(3.141592))"
      ],
      "metadata": {
        "colab": {
          "base_uri": "https://localhost:8080/"
        },
        "id": "9Dwo5Ux81tvk",
        "outputId": "bd4dcda5-8b70-4c46-e28a-5a1c38b30560"
      },
      "execution_count": 14,
      "outputs": [
        {
          "output_type": "stream",
          "name": "stdout",
          "text": [
            "<class 'str'>\n",
            "<class 'int'>\n",
            "<class 'float'>\n"
          ]
        }
      ]
    },
    {
      "cell_type": "code",
      "source": [
        "score = 100\n",
        "print(score)\n",
        "print(type(score))"
      ],
      "metadata": {
        "colab": {
          "base_uri": "https://localhost:8080/"
        },
        "id": "J1BIZwib4bKf",
        "outputId": "a0fe83a2-1084-4a8b-a8e6-217b4678fab3"
      },
      "execution_count": 15,
      "outputs": [
        {
          "output_type": "stream",
          "name": "stdout",
          "text": [
            "100\n",
            "<class 'int'>\n"
          ]
        }
      ]
    },
    {
      "cell_type": "code",
      "source": [
        "score = 'high'\n",
        "print(score)\n",
        "print(type(score))"
      ],
      "metadata": {
        "colab": {
          "base_uri": "https://localhost:8080/"
        },
        "id": "Lsgdeq_i4kos",
        "outputId": "92033eda-7f5c-4650-f5b2-712bbb06ee07"
      },
      "execution_count": 17,
      "outputs": [
        {
          "output_type": "stream",
          "name": "stdout",
          "text": [
            "high\n",
            "<class 'str'>\n"
          ]
        }
      ]
    },
    {
      "cell_type": "code",
      "source": [
        "num = 123456789\n",
        "print(num)\n",
        "print(type(num))"
      ],
      "metadata": {
        "colab": {
          "base_uri": "https://localhost:8080/"
        },
        "id": "w1vtK3ls49kX",
        "outputId": "933a24fb-34d7-4232-ac8d-47a27fe3bf6f"
      },
      "execution_count": 18,
      "outputs": [
        {
          "output_type": "stream",
          "name": "stdout",
          "text": [
            "123456789\n",
            "<class 'int'>\n"
          ]
        }
      ]
    },
    {
      "cell_type": "code",
      "source": [
        "num = -20909\n",
        "print(num)\n",
        "print(type(num))"
      ],
      "metadata": {
        "colab": {
          "base_uri": "https://localhost:8080/"
        },
        "id": "ELYTk3es5Bp2",
        "outputId": "f0d29930-9389-426c-ab9e-bf2019e3ff38"
      },
      "execution_count": 19,
      "outputs": [
        {
          "output_type": "stream",
          "name": "stdout",
          "text": [
            "-20909\n",
            "<class 'int'>\n"
          ]
        }
      ]
    },
    {
      "cell_type": "code",
      "source": [
        "a = 1.5\n",
        "b = -3.5\n",
        "print(a,b)\n",
        "print(type(a) , type(b))"
      ],
      "metadata": {
        "colab": {
          "base_uri": "https://localhost:8080/"
        },
        "id": "NILWYs-o5GBt",
        "outputId": "472b6236-b969-45ae-ea65-526db27ac865"
      },
      "execution_count": 20,
      "outputs": [
        {
          "output_type": "stream",
          "name": "stdout",
          "text": [
            "1.5 -3.5\n",
            "<class 'float'> <class 'float'>\n"
          ]
        }
      ]
    },
    {
      "cell_type": "code",
      "source": [
        "x = 3.3764\n",
        "y = 6/2\n",
        "print(x,y)\n",
        "print(type(a) , type(b))"
      ],
      "metadata": {
        "colab": {
          "base_uri": "https://localhost:8080/"
        },
        "id": "yXQFol1J5OR9",
        "outputId": "ced1aea0-c03a-4bfe-ec1e-0b6ba1684482"
      },
      "execution_count": 21,
      "outputs": [
        {
          "output_type": "stream",
          "name": "stdout",
          "text": [
            "3.3764 3.0\n",
            "<class 'float'> <class 'float'>\n"
          ]
        }
      ]
    },
    {
      "cell_type": "code",
      "source": [
        "a = \"Korea 서울 1234\"\n",
        "print(a)\n",
        "print(type(a))"
      ],
      "metadata": {
        "colab": {
          "base_uri": "https://localhost:8080/"
        },
        "id": "dcULx07l50Dn",
        "outputId": "d58fafec-0142-4d3e-a2c6-ca65a3316c9c"
      },
      "execution_count": 22,
      "outputs": [
        {
          "output_type": "stream",
          "name": "stdout",
          "text": [
            "Korea 서울 1234\n",
            "<class 'str'>\n"
          ]
        }
      ]
    },
    {
      "cell_type": "code",
      "source": [
        "a = 30\n",
        "print(a)\n",
        "print(type(a))\n",
        "\n",
        "b = '30'\n",
        "print(b)\n",
        "print(type(b))"
      ],
      "metadata": {
        "colab": {
          "base_uri": "https://localhost:8080/"
        },
        "id": "Vj2LTB1e563V",
        "outputId": "a569cab0-3aa4-4a82-ebaf-0c4d00c75b2e"
      },
      "execution_count": 23,
      "outputs": [
        {
          "output_type": "stream",
          "name": "stdout",
          "text": [
            "30\n",
            "<class 'int'>\n",
            "30\n",
            "<class 'str'>\n"
          ]
        }
      ]
    },
    {
      "cell_type": "code",
      "source": [
        "a = 5\n",
        "b = a==5\n",
        "print(b)"
      ],
      "metadata": {
        "colab": {
          "base_uri": "https://localhost:8080/"
        },
        "id": "hD1dSHzL6Rcl",
        "outputId": "19a5ff29-2d0b-46a6-8c98-6cdc6363c4f7"
      },
      "execution_count": 24,
      "outputs": [
        {
          "output_type": "stream",
          "name": "stdout",
          "text": [
            "True\n"
          ]
        }
      ]
    },
    {
      "cell_type": "code",
      "source": [
        "if a ==5:\n",
        "  print(\"a는5\")"
      ],
      "metadata": {
        "colab": {
          "base_uri": "https://localhost:8080/"
        },
        "id": "8QQ0sJ-26WMd",
        "outputId": "76761b93-d053-4dd2-fb97-b864a7ee31b9"
      },
      "execution_count": 25,
      "outputs": [
        {
          "output_type": "stream",
          "name": "stdout",
          "text": [
            "a는5\n"
          ]
        }
      ]
    },
    {
      "cell_type": "code",
      "source": [
        "print('I say \"hello\" to you.')"
      ],
      "metadata": {
        "colab": {
          "base_uri": "https://localhost:8080/"
        },
        "id": "pN7oknmr6cpV",
        "outputId": "f15a7bd0-a00f-48cf-8901-66b571ac24a4"
      },
      "execution_count": 26,
      "outputs": [
        {
          "output_type": "stream",
          "name": "stdout",
          "text": [
            "I say \"hello\" to you.\n"
          ]
        }
      ]
    },
    {
      "cell_type": "code",
      "source": [
        "a = input('첫번째숫자를 입력하세요:')\n",
        "b = input('두번째숫자를 입력하세요:')\n",
        "c = int(a) + int(b)\n",
        "print(c)"
      ],
      "metadata": {
        "colab": {
          "base_uri": "https://localhost:8080/"
        },
        "id": "KKwjdfzx_vRw",
        "outputId": "2036ac91-b88a-4a6e-e55c-cb24068583be"
      },
      "execution_count": 27,
      "outputs": [
        {
          "output_type": "stream",
          "name": "stdout",
          "text": [
            "첫번째숫자를 입력하세요:2\n",
            "두번째숫자를 입력하세요:3\n",
            "5\n"
          ]
        }
      ]
    },
    {
      "cell_type": "code",
      "source": [
        "a = input('첫번째숫자를 입력하세요:')\n",
        "b = input('두번째숫자를 입력하세요:')\n",
        "c = a +b\n",
        "print(c)"
      ],
      "metadata": {
        "colab": {
          "base_uri": "https://localhost:8080/"
        },
        "id": "RYgfnCIZAsfv",
        "outputId": "d38af95e-3eda-4ce7-c206-0262c4302f1c"
      },
      "execution_count": 28,
      "outputs": [
        {
          "output_type": "stream",
          "name": "stdout",
          "text": [
            "첫번째숫자를 입력하세요:2\n",
            "두번째숫자를 입력하세요:3\n",
            "23\n"
          ]
        }
      ]
    },
    {
      "cell_type": "code",
      "source": [
        "inch = float(input('인치를 입력하세요:')) \n",
        "cm = inch * 2.54\n",
        "print(\"센티미터: \", cm,\"cm\",sep = \"\" )"
      ],
      "metadata": {
        "colab": {
          "base_uri": "https://localhost:8080/"
        },
        "id": "HwMGDlZbA12e",
        "outputId": "d52d4078-32c6-4409-9aba-a71ae65abc17"
      },
      "execution_count": 33,
      "outputs": [
        {
          "output_type": "stream",
          "name": "stdout",
          "text": [
            "인치를 입력하세요:3.5\n",
            "센티미터: 8.89cm\n"
          ]
        }
      ]
    },
    {
      "cell_type": "code",
      "source": [
        "radius = int(input(\"반지름은?:\"))\n",
        "print(\"반지름이\" , radius , \"인 원의둘레는\" , format(2 * radius * 3.14, \".1f\"), \"이고, 면적은\" , radius * radius * 3.14 , \"이다\")"
      ],
      "metadata": {
        "colab": {
          "base_uri": "https://localhost:8080/"
        },
        "id": "xmWBD_jnDDpX",
        "outputId": "912df67e-cd2d-49d2-dcde-d115c46dea3c"
      },
      "execution_count": 37,
      "outputs": [
        {
          "output_type": "stream",
          "name": "stdout",
          "text": [
            "반지름은?:5\n",
            "반지름이 5 인 원의둘레는 31.4 이고, 면적은 78.5 이다\n"
          ]
        }
      ]
    },
    {
      "cell_type": "code",
      "source": [
        "key = int(input(\"현재키는:?:\"))\n",
        "aim = int(input(\"5개월 후의 목표키는?:\"))\n",
        "print(\"한달에\" , (aim - key) /5 , \"씩 성장해보세요!\")"
      ],
      "metadata": {
        "colab": {
          "base_uri": "https://localhost:8080/"
        },
        "id": "G978zJ06EXVX",
        "outputId": "cb13b370-cf40-4dcd-c1b2-b0d25e52a43f"
      },
      "execution_count": 48,
      "outputs": [
        {
          "output_type": "stream",
          "name": "stdout",
          "text": [
            "현재키는:?:160\n",
            "5개월 후의 목표키는?:168\n",
            "한달에 1.6 씩 성장해보세요!\n"
          ]
        }
      ]
    },
    {
      "cell_type": "code",
      "source": [
        "book = int(input(\"책 값:\"))\n",
        "discount = int(input(\"할인율(%)\"))\n",
        "delivery = int(input(\"배송비\"))\n",
        "print(\"결제하실 금액은\" , book / 100 * (100-discount) + delivery , \"원 입니다\")"
      ],
      "metadata": {
        "colab": {
          "base_uri": "https://localhost:8080/"
        },
        "id": "qmU0XiG6FctA",
        "outputId": "e93a077e-992a-43ad-8294-583499b7e50e"
      },
      "execution_count": 49,
      "outputs": [
        {
          "output_type": "stream",
          "name": "stdout",
          "text": [
            "책 값:3000\n",
            "할인율(%)20\n",
            "배송비3000\n",
            "결제하실 금액은 5400.0 원 입니다\n"
          ]
        }
      ]
    },
    {
      "cell_type": "code",
      "source": [],
      "metadata": {
        "id": "nX8H8Y-JGB_o"
      },
      "execution_count": null,
      "outputs": []
    }
  ]
}