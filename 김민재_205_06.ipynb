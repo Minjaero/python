{
  "nbformat": 4,
  "nbformat_minor": 0,
  "metadata": {
    "colab": {
      "provenance": [],
      "include_colab_link": true
    },
    "kernelspec": {
      "name": "python3",
      "display_name": "Python 3"
    },
    "language_info": {
      "name": "python"
    }
  },
  "cells": [
    {
      "cell_type": "markdown",
      "metadata": {
        "id": "view-in-github",
        "colab_type": "text"
      },
      "source": [
        "<a href=\"https://colab.research.google.com/github/Minjaero/python/blob/main/%EA%B9%80%EB%AF%BC%EC%9E%AC_205_06.ipynb\" target=\"_parent\"><img src=\"https://colab.research.google.com/assets/colab-badge.svg\" alt=\"Open In Colab\"/></a>"
      ]
    },
    {
      "cell_type": "code",
      "execution_count": null,
      "metadata": {
        "id": "iv_Yg4W31bUH",
        "colab": {
          "base_uri": "https://localhost:8080/"
        },
        "outputId": "19e78d75-3094-4fc3-d482-2406d7664529"
      },
      "outputs": [
        {
          "output_type": "stream",
          "name": "stdout",
          "text": [
            "1\n",
            "3\n",
            "5\n"
          ]
        }
      ],
      "source": [
        "for i in[1,3,5] :\n",
        "  print(i)"
      ]
    },
    {
      "cell_type": "code",
      "source": [
        "for i in range(10) : #range(시작값(0). 끝값, 증가값(+1)) -> for(초기값: 조건: 증감식)\n",
        "  print(i, end = ' ')"
      ],
      "metadata": {
        "colab": {
          "base_uri": "https://localhost:8080/"
        },
        "id": "0CiiBD5G6A-z",
        "outputId": "892fb13f-0fb5-435d-d0bd-4764f30291da"
      },
      "execution_count": null,
      "outputs": [
        {
          "output_type": "stream",
          "name": "stdout",
          "text": [
            "0 1 2 3 4 5 6 7 8 9 "
          ]
        }
      ]
    },
    {
      "cell_type": "code",
      "source": [
        "for i in range(1,11) : #range(시작값(0). 끝값, 증가값(+1)) -> for(초기값: 조건: 증감식)\n",
        "  print(i, end = ' ')"
      ],
      "metadata": {
        "colab": {
          "base_uri": "https://localhost:8080/"
        },
        "id": "dZX0t9ci7HZn",
        "outputId": "982aa37e-51c5-4e23-e8a5-d43068095251"
      },
      "execution_count": null,
      "outputs": [
        {
          "output_type": "stream",
          "name": "stdout",
          "text": [
            "1 2 3 4 5 6 7 8 9 10 "
          ]
        }
      ]
    },
    {
      "cell_type": "code",
      "source": [
        "for i in range(1,10,2) : #range(시작값(0). 끝값, 증가값(+1)) -> for(초기값: 조건: 증감식)\n",
        "  print(i, end = ' ')"
      ],
      "metadata": {
        "colab": {
          "base_uri": "https://localhost:8080/"
        },
        "id": "7tDLX7kV7aIK",
        "outputId": "a8afe77f-2fe9-4284-ca73-5847b81cfa42"
      },
      "execution_count": null,
      "outputs": [
        {
          "output_type": "stream",
          "name": "stdout",
          "text": [
            "1 3 5 7 9 "
          ]
        }
      ]
    },
    {
      "cell_type": "code",
      "source": [
        "for i in range(20,0, -2) : #range(시작값(0). 끝값, 증가값(+1)) -> for(초기값: 조건: 증감식)\n",
        "  print(i, end = ' ')"
      ],
      "metadata": {
        "colab": {
          "base_uri": "https://localhost:8080/"
        },
        "id": "a7vPlUMJ7wV7",
        "outputId": "882611da-4ae6-4480-e1b6-2f6eee7bbd83"
      },
      "execution_count": null,
      "outputs": [
        {
          "output_type": "stream",
          "name": "stdout",
          "text": [
            "20 18 16 14 12 10 8 6 4 2 "
          ]
        }
      ]
    },
    {
      "cell_type": "code",
      "source": [
        "for i in range(3): #3또는 (1,4,1) , (0,1,2)\n",
        "  print('안녕하세요')"
      ],
      "metadata": {
        "colab": {
          "base_uri": "https://localhost:8080/"
        },
        "id": "4lNbfqBF7waZ",
        "outputId": "fe2a9100-8676-41e0-8ad6-8f2092475df3"
      },
      "execution_count": null,
      "outputs": [
        {
          "output_type": "stream",
          "name": "stdout",
          "text": [
            "안녕하세요\n",
            "안녕하세요\n",
            "안녕하세요\n"
          ]
        }
      ]
    },
    {
      "cell_type": "code",
      "source": [
        "a = 10\n",
        "for num in range(1,5,2): #num =1.  3.  \n",
        " a  += num                 #a = 11. 14\n",
        "print(a)"
      ],
      "metadata": {
        "colab": {
          "base_uri": "https://localhost:8080/"
        },
        "id": "3SokwfQb8iij",
        "outputId": "14ccf389-19d2-48a8-bb17-f82d4bfd55d8"
      },
      "execution_count": null,
      "outputs": [
        {
          "output_type": "stream",
          "name": "stdout",
          "text": [
            "14\n"
          ]
        }
      ]
    },
    {
      "cell_type": "code",
      "source": [
        "for i in range(1,4,1):\n",
        "  print(i, '번째 학생의 성적처리')"
      ],
      "metadata": {
        "colab": {
          "base_uri": "https://localhost:8080/"
        },
        "id": "CImPixhB8ilM",
        "outputId": "74a5dfe2-1bc8-4275-be08-704ebf484cfb"
      },
      "execution_count": null,
      "outputs": [
        {
          "output_type": "stream",
          "name": "stdout",
          "text": [
            "1 번째 학생의 성적처리\n",
            "2 번째 학생의 성적처리\n",
            "3 번째 학생의 성적처리\n"
          ]
        }
      ]
    },
    {
      "cell_type": "code",
      "source": [
        "for i in range(2,22,2):\n",
        "    print(i, end = ' ')"
      ],
      "metadata": {
        "colab": {
          "base_uri": "https://localhost:8080/"
        },
        "id": "g99EqQ4N96XU",
        "outputId": "f2595dfe-860d-451f-eb2c-c8d65d040435"
      },
      "execution_count": null,
      "outputs": [
        {
          "output_type": "stream",
          "name": "stdout",
          "text": [
            "2 4 6 8 10 12 14 16 18 20 "
          ]
        }
      ]
    },
    {
      "cell_type": "code",
      "source": [
        "for i in range(2,20,2):\n",
        "  print(\"2 *\",i, \"=\", 2*i)"
      ],
      "metadata": {
        "colab": {
          "base_uri": "https://localhost:8080/"
        },
        "id": "O83Y4K5l-1DV",
        "outputId": "047e241b-5792-4aab-9217-adf1475a4c9c"
      },
      "execution_count": null,
      "outputs": [
        {
          "output_type": "stream",
          "name": "stdout",
          "text": [
            "2 * 2 = 4\n",
            "2 * 4 = 8\n",
            "2 * 6 = 12\n",
            "2 * 8 = 16\n",
            "2 * 10 = 20\n",
            "2 * 12 = 24\n",
            "2 * 14 = 28\n",
            "2 * 16 = 32\n",
            "2 * 18 = 36\n"
          ]
        }
      ]
    },
    {
      "cell_type": "code",
      "source": [
        "for i in range(1,11,1):\n",
        "  print(\"i의 값:\", i, \"=> 합계:\" ,)"
      ],
      "metadata": {
        "colab": {
          "base_uri": "https://localhost:8080/"
        },
        "id": "HCeNMzSL_tFJ",
        "outputId": "9eb39e2b-10a6-47ac-bd4a-ca2556105f56"
      },
      "execution_count": null,
      "outputs": [
        {
          "output_type": "stream",
          "name": "stdout",
          "text": [
            "i의 값: 1 => 합계:\n",
            "i의 값: 2 => 합계:\n",
            "i의 값: 3 => 합계:\n",
            "i의 값: 4 => 합계:\n",
            "i의 값: 5 => 합계:\n",
            "i의 값: 6 => 합계:\n",
            "i의 값: 7 => 합계:\n",
            "i의 값: 8 => 합계:\n",
            "i의 값: 9 => 합계:\n",
            "i의 값: 10 => 합계:\n"
          ]
        }
      ]
    },
    {
      "cell_type": "code",
      "source": [
        "a = 0\n",
        "for i in range(2,101,2): \n",
        "  a += i\n",
        "print('sum = ', a,end = ' ')"
      ],
      "metadata": {
        "colab": {
          "base_uri": "https://localhost:8080/"
        },
        "id": "-jfhvL0mATe5",
        "outputId": "a917ee85-a043-42df-f89c-a5e02fe9679a"
      },
      "execution_count": 121,
      "outputs": [
        {
          "output_type": "stream",
          "name": "stdout",
          "text": [
            "sum =  2550 "
          ]
        }
      ]
    },
    {
      "cell_type": "code",
      "source": [
        "a = 1\n",
        "for i in range(1, 11, 1):\n",
        "  a = a*i\n",
        "print(\"10! = \", a, end = ' ')"
      ],
      "metadata": {
        "colab": {
          "base_uri": "https://localhost:8080/"
        },
        "id": "GFm-wk7BBQON",
        "outputId": "142588bc-4bf5-48c1-9931-5738e465a8d3"
      },
      "execution_count": 119,
      "outputs": [
        {
          "output_type": "stream",
          "name": "stdout",
          "text": [
            "10! =  3628800 "
          ]
        }
      ]
    },
    {
      "cell_type": "code",
      "source": [
        "count = 0 \n",
        "for i in range(5,105,5):\n",
        "    print(i, end = ' ')\n",
        "    count += 1\n",
        "    if i % 7 == 0:\n",
        "      print()"
      ],
      "metadata": {
        "colab": {
          "base_uri": "https://localhost:8080/"
        },
        "id": "QWzSmWd1BUa6",
        "outputId": "da04f5c9-e940-4c03-9f9a-f820de847433"
      },
      "execution_count": 135,
      "outputs": [
        {
          "output_type": "stream",
          "name": "stdout",
          "text": [
            "5 10 15 20 25 30 35 \n",
            "40 45 50 55 60 65 70 \n",
            "75 80 85 90 95 100 "
          ]
        }
      ]
    },
    {
      "cell_type": "code",
      "source": [
        "n = int(input('정수를 입력하세요:'))\n",
        "for i in range(1, n+1):\n",
        "  if n % i == 0: # i가 n의 약수인 경우\n",
        "    print(i , end= ' ')"
      ],
      "metadata": {
        "colab": {
          "base_uri": "https://localhost:8080/"
        },
        "id": "q0fXflB8GZx2",
        "outputId": "31dc35a4-f3d9-4b44-8d56-8945947e69c2"
      },
      "execution_count": 137,
      "outputs": [
        {
          "output_type": "stream",
          "name": "stdout",
          "text": [
            "정수를 입력하세요:6\n",
            "1 2 3 6 "
          ]
        }
      ]
    },
    {
      "cell_type": "code",
      "source": [
        "a = 0\n",
        "b = 1\n",
        "for i in range(20):\n",
        "    print(a, end = ' ')\n",
        "    tmp = a+b\n",
        "    a = b \n",
        "    b = tmp"
      ],
      "metadata": {
        "id": "bvOImXTOE0cr",
        "colab": {
          "base_uri": "https://localhost:8080/"
        },
        "outputId": "f77142c5-5054-46d7-a685-7a53bf31134a"
      },
      "execution_count": 148,
      "outputs": [
        {
          "output_type": "stream",
          "name": "stdout",
          "text": [
            "0 1 1 2 3 5 8 13 21 34 55 89 144 233 377 610 987 1597 2584 4181 "
          ]
        }
      ]
    },
    {
      "cell_type": "code",
      "source": [
        "line = '-' * 40  # '_' 문자를 40번 반복하여 문자열 생성\n",
        "for i in range(len(line)):\n",
        "    if i % 10 == 0 and i != 0:\n",
        "        print('+', end='')  # 매 10칸마다 '+' 문자 출력\n",
        "    else:\n",
        "        print(line[i], end='')  # 나머지 칸에는 '_' 문자 출력"
      ],
      "metadata": {
        "colab": {
          "base_uri": "https://localhost:8080/"
        },
        "id": "1YAI2BorHAGF",
        "outputId": "8e0a09ba-7a8c-4e0f-8a9a-30bb54f5ee80"
      },
      "execution_count": 139,
      "outputs": [
        {
          "output_type": "stream",
          "name": "stdout",
          "text": [
            "----------+---------+---------+---------"
          ]
        }
      ]
    },
    {
      "cell_type": "code",
      "source": [
        "i = 1\n",
        "while i < 41:\n",
        "    if i %  10 ==0:\n",
        "      print('+' , end = '')\n",
        "    else:\n",
        "      print('-' , end = '')\n",
        "    i += 1"
      ],
      "metadata": {
        "colab": {
          "base_uri": "https://localhost:8080/"
        },
        "id": "hI5OvT3_KwAB",
        "outputId": "10a6d678-d142-49d4-8144-30c023ae5387"
      },
      "execution_count": 146,
      "outputs": [
        {
          "output_type": "stream",
          "name": "stdout",
          "text": [
            "---------+---------+---------+---------+"
          ]
        }
      ]
    },
    {
      "cell_type": "code",
      "source": [
        "for i in range(1, 41, 1):\n",
        "  if i % 5 == 0 and i % 22 != 0:\n",
        "    print('+' , end = '')\n",
        "  else:\n",
        "    print('-' , end='')"
      ],
      "metadata": {
        "colab": {
          "base_uri": "https://localhost:8080/"
        },
        "id": "04dSBvOpLBP7",
        "outputId": "e70d223e-7800-4748-df41-d6c80f35956c"
      },
      "execution_count": 143,
      "outputs": [
        {
          "output_type": "stream",
          "name": "stdout",
          "text": [
            "----+----+----+----+----+----+----+----+"
          ]
        }
      ]
    },
    {
      "cell_type": "code",
      "source": [
        "for i in range(1, 1001):\n",
        "  print(i, end = ' ')\n",
        "  if i == 10:\n",
        "    break"
      ],
      "metadata": {
        "colab": {
          "base_uri": "https://localhost:8080/"
        },
        "id": "VFYK1aIQO3w1",
        "outputId": "44fdf8e4-55ef-4f0f-dd97-42cf53da409f"
      },
      "execution_count": 149,
      "outputs": [
        {
          "output_type": "stream",
          "name": "stdout",
          "text": [
            "1 2 3 4 5 6 7 8 9 10 "
          ]
        }
      ]
    },
    {
      "cell_type": "code",
      "source": [
        "score = [92, 86,68,120,56,72]\n",
        "for s in score:\n",
        "  if s < 0 or s > 100:\n",
        "    break\n",
        "  print(s)\n",
        "print('성적 처리')"
      ],
      "metadata": {
        "colab": {
          "base_uri": "https://localhost:8080/"
        },
        "id": "GaN1YNGqUg-o",
        "outputId": "9e39cf25-b9d3-4c8d-9e8c-0ab4f801a243"
      },
      "execution_count": 157,
      "outputs": [
        {
          "output_type": "stream",
          "name": "stdout",
          "text": [
            "92\n",
            "86\n",
            "68\n",
            "성적 처리\n"
          ]
        }
      ]
    },
    {
      "cell_type": "code",
      "source": [
        "score = [92, 86,68,120,56,72]\n",
        "for s in score:\n",
        "  if s < 0 or s > 100:\n",
        "    continue\n",
        "  print(s)\n",
        "print('성적 처리')"
      ],
      "metadata": {
        "colab": {
          "base_uri": "https://localhost:8080/"
        },
        "id": "o5oB2eWxaAU1",
        "outputId": "6bfabbdb-0b85-4989-a0ed-98dee77b3ae7"
      },
      "execution_count": 158,
      "outputs": [
        {
          "output_type": "stream",
          "name": "stdout",
          "text": [
            "92\n",
            "86\n",
            "68\n",
            "56\n",
            "72\n",
            "성적 처리\n"
          ]
        }
      ]
    },
    {
      "cell_type": "code",
      "source": [
        "print('3+4')\n",
        "while True :\n",
        "  n = int(input('정답 입력:'))\n",
        "  if n ==  7:\n",
        "    break\n",
        "print('참 잘했어요. 이제 꺼지세요.')  "
      ],
      "metadata": {
        "colab": {
          "base_uri": "https://localhost:8080/"
        },
        "id": "7q2BpP7bauIO",
        "outputId": "aa2a332a-f673-4e7c-80ad-5fa0d1c53308"
      },
      "execution_count": 160,
      "outputs": [
        {
          "output_type": "stream",
          "name": "stdout",
          "text": [
            "3+4\n",
            "정답 입력:7\n",
            "참 잘했어요. 이제 꺼지세요.\n"
          ]
        }
      ]
    }
  ]
}