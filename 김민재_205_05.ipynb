{
  "nbformat": 4,
  "nbformat_minor": 0,
  "metadata": {
    "colab": {
      "provenance": [],
      "include_colab_link": true
    },
    "kernelspec": {
      "name": "python3",
      "display_name": "Python 3"
    },
    "language_info": {
      "name": "python"
    }
  },
  "cells": [
    {
      "cell_type": "markdown",
      "metadata": {
        "id": "view-in-github",
        "colab_type": "text"
      },
      "source": [
        "<a href=\"https://colab.research.google.com/github/Minjaero/python/blob/main/%EA%B9%80%EB%AF%BC%EC%9E%AC_205_05.ipynb\" target=\"_parent\"><img src=\"https://colab.research.google.com/assets/colab-badge.svg\" alt=\"Open In Colab\"/></a>"
      ]
    },
    {
      "cell_type": "code",
      "execution_count": 21,
      "metadata": {
        "colab": {
          "base_uri": "https://localhost:8080/"
        },
        "id": "hCrx29uv3LIG",
        "outputId": "754ef9db-4d4e-46ae-a968-bc31a14eceb5"
      },
      "outputs": [
        {
          "output_type": "stream",
          "name": "stdout",
          "text": [
            "좋은 아침입니다. 지금 시간은 6시입니다.\n",
            "현재 날씨가 화창합니다.\n",
            "종달새가 노래 합니다.\n"
          ]
        }
      ],
      "source": [
        "import random\n",
        "hour = random.randrange(0,24) # 0 ~ 23\n",
        "sunny = random.choice([True, False])\n",
        "\n",
        "if hour < 12:\n",
        "    print('좋은 아침입니다. 지금 시간은 %d시입니다.' %(hour))\n",
        "else :\n",
        "    print('좋은 아침입니다. 지금 시간간은 %d시입니다.' %(hour))\n",
        "if sunny :\n",
        "    print(\"현재 날씨가 화창합니다.\")\n",
        "    if 6 <= hour <=8:\n",
        "      print(\"종달새가 노래 합니다.\")\n",
        "    else :\n",
        "      print(\"종달새가 노래하지 않습니다.\")\n",
        "else :\n",
        "    print(\"현재 날씨가 화창하지 않습니다.\")\n",
        "    print('종달새가 노래하지 않습니다.')"
      ]
    },
    {
      "cell_type": "code",
      "source": [
        "x = 0\n",
        "while x < 3:\n",
        "    print(\"안녕하세요\")\n",
        "    x += 1"
      ],
      "metadata": {
        "id": "PjDel9UlBAYo"
      },
      "execution_count": null,
      "outputs": []
    },
    {
      "cell_type": "code",
      "source": [
        "student = 1\n",
        "while student <= 3 :\n",
        "  print(student , '번 학생의 성적을 처리한다.')\n",
        "  student += 1"
      ],
      "metadata": {
        "colab": {
          "base_uri": "https://localhost:8080/"
        },
        "id": "xka4NZG5Cc1H",
        "outputId": "497ba4ef-0f8e-4ecd-af58-1fc4ba0ccb2c"
      },
      "execution_count": 25,
      "outputs": [
        {
          "output_type": "stream",
          "name": "stdout",
          "text": [
            "1 번 학생의 성적을 처리한다.\n",
            "2 번 학생의 성적을 처리한다.\n",
            "3 번 학생의 성적을 처리한다.\n"
          ]
        }
      ]
    },
    {
      "cell_type": "code",
      "source": [
        "dan = int(input(\"원하는 단은?:\"))\n",
        "n = 1\n",
        "while n <=9 :\n",
        "  print(\"%d * %d = %d\" %(dan , n , dan * n))\n",
        "  n += 1"
      ],
      "metadata": {
        "colab": {
          "base_uri": "https://localhost:8080/"
        },
        "id": "34xg5FE0Cvi5",
        "outputId": "ed8f6707-50a0-4cf8-b3cd-5d42a39c3a9f"
      },
      "execution_count": 42,
      "outputs": [
        {
          "output_type": "stream",
          "name": "stdout",
          "text": [
            "원하는 단은?:3\n",
            "3 * 1 = 3\n",
            "3 * 2 = 6\n",
            "3 * 3 = 9\n",
            "3 * 4 = 12\n",
            "3 * 5 = 15\n",
            "3 * 6 = 18\n",
            "3 * 7 = 21\n",
            "3 * 8 = 24\n",
            "3 * 9 = 27\n"
          ]
        }
      ]
    },
    {
      "cell_type": "code",
      "source": [
        "num = 1\n",
        "sum = 0\n",
        "while( num <= 10) :\n",
        "  sum += num\n",
        "  print(\"i의 값 : %d => 합계 : %d\" %(num,sum))\n",
        "  num += 1"
      ],
      "metadata": {
        "colab": {
          "base_uri": "https://localhost:8080/"
        },
        "id": "0hk5AXNkDg6M",
        "outputId": "410981af-11a8-47f3-d2a5-d3c55a2af46b"
      },
      "execution_count": 38,
      "outputs": [
        {
          "output_type": "stream",
          "name": "stdout",
          "text": [
            "i의 값 : 1 => 합계 : 1\n",
            "i의 값 : 2 => 합계 : 3\n",
            "i의 값 : 3 => 합계 : 6\n",
            "i의 값 : 4 => 합계 : 10\n",
            "i의 값 : 5 => 합계 : 15\n",
            "i의 값 : 6 => 합계 : 21\n",
            "i의 값 : 7 => 합계 : 28\n",
            "i의 값 : 8 => 합계 : 36\n",
            "i의 값 : 9 => 합계 : 45\n",
            "i의 값 : 10 => 합계 : 55\n"
          ]
        }
      ]
    },
    {
      "cell_type": "code",
      "source": [
        "num = 151\n",
        "sum = 0\n",
        "while( num <= 300) :\n",
        "  sum += num\n",
        "  #print(\"i의 값 : %d => 합계 : %d\" %(num,sum))\n",
        "  num += 2\n",
        "print('sum = ', sum)"
      ],
      "metadata": {
        "colab": {
          "base_uri": "https://localhost:8080/"
        },
        "id": "6t1RT87kD97v",
        "outputId": "188b51ca-2bda-40f8-881d-4963d6548927"
      },
      "execution_count": 46,
      "outputs": [
        {
          "output_type": "stream",
          "name": "stdout",
          "text": [
            "sum =  16875\n"
          ]
        }
      ]
    },
    {
      "cell_type": "code",
      "source": [
        "num = 150\n",
        "sum = 0\n",
        "while( num <= 300) :\n",
        "  if num % 2 != 0 : # 홀 수 일때\n",
        "   sum += num\n",
        "  num +=1\n",
        "  \n",
        "print('sum =' ,sum)"
      ],
      "metadata": {
        "colab": {
          "base_uri": "https://localhost:8080/"
        },
        "id": "xxEV-wxcE8q1",
        "outputId": "67196bdd-d443-48e2-f643-ff88b152bf67"
      },
      "execution_count": 53,
      "outputs": [
        {
          "output_type": "stream",
          "name": "stdout",
          "text": [
            "sum = 16875\n"
          ]
        }
      ]
    },
    {
      "cell_type": "code",
      "source": [
        "print('------------------------')\n",
        "print('섭씨\\t화씨')\n",
        "print('------------------------')\n",
        "c = -5\n",
        "while c <= 5: \n",
        "    print(\"%d\\t%f\" %(c , c *9.0/5.0 + 32.0 ))\n",
        "    c += 1\n",
        "print('------------------------')\n"
      ],
      "metadata": {
        "colab": {
          "base_uri": "https://localhost:8080/"
        },
        "id": "r709BcT3LIhM",
        "outputId": "3a1603eb-2905-4b43-a7da-b8b342fb2085"
      },
      "execution_count": 55,
      "outputs": [
        {
          "output_type": "stream",
          "name": "stdout",
          "text": [
            "------------------------\n",
            "섭씨\t화씨\n",
            "------------------------\n",
            "-5\t23.000000\n",
            "-4\t24.800000\n",
            "-3\t26.600000\n",
            "-2\t28.400000\n",
            "-1\t30.200000\n",
            "0\t32.000000\n",
            "1\t33.800000\n",
            "2\t35.600000\n",
            "3\t37.400000\n",
            "4\t39.200000\n",
            "5\t41.000000\n",
            "------------------------\n"
          ]
        }
      ]
    },
    {
      "cell_type": "code",
      "source": [
        "n = 10\n",
        "fact = 1\n",
        "while n >= 1:\n",
        "  fact *= n\n",
        "  n -=1\n",
        "print('10! =' , fact)"
      ],
      "metadata": {
        "colab": {
          "base_uri": "https://localhost:8080/"
        },
        "id": "3RWcxd-fLVtf",
        "outputId": "c74ac049-8955-4889-e16f-2a7b3c46082b"
      },
      "execution_count": 57,
      "outputs": [
        {
          "output_type": "stream",
          "name": "stdout",
          "text": [
            "10! = 3628800\n"
          ]
        }
      ]
    },
    {
      "cell_type": "code",
      "source": [
        "num = 1\n",
        "while num <= 20 :\n",
        "  if num % 2 == 0: #2의 배수일 때 \n",
        "    print(num, end= ' ')\n",
        "  num += 1"
      ],
      "metadata": {
        "colab": {
          "base_uri": "https://localhost:8080/"
        },
        "outputId": "28e36e62-08f4-450d-c1a9-029f0effba07",
        "id": "ia-jI0MYPI3d"
      },
      "execution_count": 63,
      "outputs": [
        {
          "output_type": "stream",
          "name": "stdout",
          "text": [
            "2 4 6 8 10 12 14 16 18 20 "
          ]
        }
      ]
    },
    {
      "cell_type": "code",
      "source": [
        "num = 10\n",
        "while num <= 50 :\n",
        "  if num % 3 != 0: \n",
        "    print(num, end= ' ')\n",
        "  num += 1"
      ],
      "metadata": {
        "colab": {
          "base_uri": "https://localhost:8080/"
        },
        "id": "vAJnA-IrPrp9",
        "outputId": "c53248e9-f7e5-4a0f-8cc2-fe49d168f835"
      },
      "execution_count": 77,
      "outputs": [
        {
          "output_type": "stream",
          "name": "stdout",
          "text": [
            "10 11 13 14 16 17 19 20 22 23 25 26 28 29 31 32 34 35 37 38 40 41 43 44 46 47 49 50 "
          ]
        }
      ]
    },
    {
      "cell_type": "code",
      "source": [
        "pw = ''\n",
        "while pw != 'python' :\n",
        "  pw = input(\"암호입력 : \")\n",
        "print('로그인 성공')\n"
      ],
      "metadata": {
        "colab": {
          "base_uri": "https://localhost:8080/"
        },
        "id": "AQbdSNDVQWP-",
        "outputId": "8ae307c8-d282-43e4-e148-02a11ec3692b"
      },
      "execution_count": 78,
      "outputs": [
        {
          "output_type": "stream",
          "name": "stdout",
          "text": [
            "암호입력 : c\n",
            "암호입력 : java\n",
            "암호입력 : python\n",
            "로그인 성공\n"
          ]
        }
      ]
    },
    {
      "cell_type": "code",
      "source": [
        "import random\n",
        "answer = random.randrange(1, 101)\n",
        "print('정답:' , answer)\n",
        "print('1부터 100사이의 숫자를 맞추기')\n",
        "num = -1\n",
        "count = 0\n",
        "while num != answer:\n",
        "  count += 1\n",
        "  num = int(input(\"숫자를 맞춰보세요:\"))\n",
        "  if num < answer :\n",
        "    print('낮음')\n",
        "  elif num > answer :\n",
        "      print('높음')\n",
        "print('축하합니다!. 시도 횟수 =' , count)"
      ],
      "metadata": {
        "id": "TXOyAE_4SPDR",
        "outputId": "e7006911-3e99-4515-a3e7-39ba9f914cff",
        "colab": {
          "base_uri": "https://localhost:8080/"
        }
      },
      "execution_count": 83,
      "outputs": [
        {
          "output_type": "stream",
          "name": "stdout",
          "text": [
            "정답: 93\n",
            "1부터 100사이의 숫자를 맞추기\n",
            "숫자를 맞춰보세요:412\n",
            "높음\n",
            "숫자를 맞춰보세요:87\n",
            "낮음\n",
            "숫자를 맞춰보세요:93\n",
            "축하합니다!. 시도 횟수 = 3\n"
          ]
        }
      ]
    }
  ]
}