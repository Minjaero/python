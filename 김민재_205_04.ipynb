{
  "nbformat": 4,
  "nbformat_minor": 0,
  "metadata": {
    "colab": {
      "provenance": [],
      "include_colab_link": true
    },
    "kernelspec": {
      "name": "python3",
      "display_name": "Python 3"
    },
    "language_info": {
      "name": "python"
    }
  },
  "cells": [
    {
      "cell_type": "markdown",
      "metadata": {
        "id": "view-in-github",
        "colab_type": "text"
      },
      "source": [
        "<a href=\"https://colab.research.google.com/github/Minjaero/python/blob/main/%EA%B9%80%EB%AF%BC%EC%9E%AC_205_04.ipynb\" target=\"_parent\"><img src=\"https://colab.research.google.com/assets/colab-badge.svg\" alt=\"Open In Colab\"/></a>"
      ]
    },
    {
      "cell_type": "code",
      "execution_count": null,
      "metadata": {
        "id": "4KY3oaqLyspE"
      },
      "outputs": [],
      "source": [
        "pilgi= int(input(\"필기 성적을 입력하세요:\"))\n",
        "silgi = int(input(\"실기 성적을 입력하세요:\"))\n",
        "if pilgi > 80 :\n",
        "  print(\"합격입니다.\")\n",
        "else:\n",
        "  print(\"불합격 입니다.\")\n",
        "if silgi > 80:\n",
        "  print(\"합격입니다.\")\n",
        "else:\n",
        "  print(\"불합격입니다.\")"
      ]
    },
    {
      "cell_type": "code",
      "source": [
        "age = int(input(\"몇 살이세요?:\"))\n",
        "if 0<= age < 7 or age >=65:\n",
        "  print(\"무료입니다.\")\n",
        "else:\n",
        "    print(\"3000원 입니다.\")\n"
      ],
      "metadata": {
        "colab": {
          "base_uri": "https://localhost:8080/"
        },
        "id": "q_MhG01J1khq",
        "outputId": "65b3d9e1-7eb8-4329-9b9e-8f0017291d15"
      },
      "execution_count": null,
      "outputs": [
        {
          "output_type": "stream",
          "name": "stdout",
          "text": [
            "몇 살이세요?:3\n",
            "무료입니다.\n"
          ]
        }
      ]
    },
    {
      "cell_type": "code",
      "source": [
        "age = int(input(\"몇 살이세요?:\"))\n",
        "height = int(input(\"키를 입력하세요:\"))\n",
        "if age >= 10 or height >=150:\n",
        "  print(\"놀이기구를 탈 수 있다.\")\n",
        "else:\n",
        "  print(\"놀이기구를 탈 수 없다.\")"
      ],
      "metadata": {
        "colab": {
          "base_uri": "https://localhost:8080/"
        },
        "id": "s6KFfd3C2jf_",
        "outputId": "2254fa82-9961-4faa-c3c1-06490109ef51"
      },
      "execution_count": null,
      "outputs": [
        {
          "output_type": "stream",
          "name": "stdout",
          "text": [
            "몇 살이세요?:15\n",
            "키를 입력하세요:160\n",
            "놀이기구를 탈 수 있다.\n"
          ]
        }
      ]
    },
    {
      "cell_type": "code",
      "source": [
        "id = input(\"아이디를 입력하세요:\")\n",
        "level = int(input(\"레벨을 입력하세요:\"))\n",
        "if id == 'admin' or level == 1:\n",
        "  print(\"관리자 입니다.\")\n",
        "else:\n",
        "  print(\"관리자가 아닙니다.\")\n"
      ],
      "metadata": {
        "colab": {
          "base_uri": "https://localhost:8080/"
        },
        "id": "5VW1Mm6t3N2X",
        "outputId": "35a4f6d9-4205-4855-f28a-9c4eaa325ec2"
      },
      "execution_count": null,
      "outputs": [
        {
          "output_type": "stream",
          "name": "stdout",
          "text": [
            "아이디를 입력하세요:happy\n",
            "레벨을 입력하세요:2\n",
            "관리자가 아닙니다.\n"
          ]
        }
      ]
    },
    {
      "cell_type": "code",
      "source": [
        "m = int(input(\"몇월?\"))\n",
        "if   3 <= m <= 5:\n",
        "   print('봄')\n",
        "elif 6 <= m <= 8:\n",
        "   print('여름')\n",
        "elif 9 <= m <= 11:\n",
        "   print('가을')\n",
        "else:\n",
        "   print(\"겨울\")"
      ],
      "metadata": {
        "colab": {
          "base_uri": "https://localhost:8080/"
        },
        "id": "k8oxq5wV6C_o",
        "outputId": "e63014a9-c2c1-4252-fc41-b40495facbcd"
      },
      "execution_count": null,
      "outputs": [
        {
          "output_type": "stream",
          "name": "stdout",
          "text": [
            "몇월?4\n",
            "봄\n"
          ]
        }
      ]
    },
    {
      "cell_type": "code",
      "source": [
        "grade = int(input(\"점수:\"))\n",
        "if   90 >= grade:\n",
        "  print(\"A등급\")\n",
        "elif 80 >= grade:\n",
        "  print(\"B등급\")\n",
        "elif 70 >= grade:\n",
        "  print(\"C등급\")\n",
        "else:\n",
        "  print(\"F등급\")"
      ],
      "metadata": {
        "colab": {
          "base_uri": "https://localhost:8080/"
        },
        "id": "DnI-GY3f-336",
        "outputId": "96349faa-5fb5-496a-93f8-70631d7dabbe"
      },
      "execution_count": null,
      "outputs": [
        {
          "output_type": "stream",
          "name": "stdout",
          "text": [
            "점수:90\n",
            "A등급\n"
          ]
        }
      ]
    },
    {
      "cell_type": "code",
      "source": [
        "first = int(input(\"첫번째 수:\"))\n",
        "second = int(input(\"두번째 수:\"))\n",
        "third = int(input(\"세번째 수:\"))\n",
        "if first > second and first > third:\n",
        "  print('가장 큰 수는 fisrt 입니다')\n",
        "elif second > first and second > third:\n",
        "  print('가장 큰 수는 second 입니다')\n",
        "else: \n",
        "  print(\"가장 큰 수는 third입니다\")"
      ],
      "metadata": {
        "colab": {
          "base_uri": "https://localhost:8080/"
        },
        "id": "oXtpbwz0AB1F",
        "outputId": "692e5c75-ed8f-4ae9-8414-268b9b266b2d"
      },
      "execution_count": null,
      "outputs": [
        {
          "output_type": "stream",
          "name": "stdout",
          "text": [
            "첫번째 수:46\n",
            "두번째 수:23\n",
            "세번째 수:32\n",
            "가장 큰 수는 fisrt 입니다\n"
          ]
        }
      ]
    },
    {
      "cell_type": "code",
      "source": [
        "price = int(input(\"구매가\"))\n",
        "if 10000 <= price < 50000:\n",
        "  discount = 5.0\n",
        "elif 50000 <= price < 300000:\n",
        "  discount = 7.5\n",
        "elif 300000 <= price:\n",
        "  discount = 10.0\n",
        "else:\n",
        "  discount = 0.0\n",
        "print('구매가:' , price , '원')\n",
        "print('할인율:' , discount , '%')\n",
        "print('할인금액:' , price * discount/100, '원')\n",
        "print('지불금액:' , price -(price * discount/100) , '원')"
      ],
      "metadata": {
        "colab": {
          "base_uri": "https://localhost:8080/"
        },
        "id": "cf5Ti9zCFyh5",
        "outputId": "9ddb4109-d782-4534-cfb1-23d2624758cc"
      },
      "execution_count": 41,
      "outputs": [
        {
          "output_type": "stream",
          "name": "stdout",
          "text": [
            "구매가60000\n",
            "구매가: 60000 원\n",
            "할인율: 7.5 %\n",
            "할인금액: 4500.0 원\n",
            "지불금액: 55500.0 원\n"
          ]
        }
      ]
    },
    {
      "cell_type": "code",
      "source": [
        "a = int(input(\"온도를 입력하세요:\"))\n",
        "if a < 0 :\n",
        "  print('고체입니다')\n",
        "elif 0 <= a < 100:\n",
        "  print('액체입니다')\n",
        "else:\n",
        "  print('수증기...?')"
      ],
      "metadata": {
        "colab": {
          "base_uri": "https://localhost:8080/"
        },
        "id": "lXgj8eejBvl-",
        "outputId": "75a7fdba-dc01-42e0-9266-952512fbe3ba"
      },
      "execution_count": null,
      "outputs": [
        {
          "output_type": "stream",
          "name": "stdout",
          "text": [
            "온도를 입력하세요:80\n",
            "액체입니다\n"
          ]
        }
      ]
    },
    {
      "cell_type": "code",
      "source": [
        "a = int(input('영어시험 점수를 입력하세요:'))\n",
        "b = int(input('수학시험 점수를 입력하세요:'))\n",
        "if a >= 80 and b >= 80:\n",
        "  print(\"합격입니다.\")\n",
        "elif a >= 80 or b >= 80:\n",
        "  print('재시험 기회 제공')\n",
        "else:\n",
        "  print(\"불합격입니다.\")"
      ],
      "metadata": {
        "colab": {
          "base_uri": "https://localhost:8080/"
        },
        "id": "NSMvi6OzCoca",
        "outputId": "01de268e-83b7-420a-f692-9100d6634652"
      },
      "execution_count": null,
      "outputs": [
        {
          "output_type": "stream",
          "name": "stdout",
          "text": [
            "영어시험 점수를 입력하세요:85\n",
            "수학시험 점수를 입력하세요:75\n",
            "재시험 기회 제공\n"
          ]
        }
      ]
    },
    {
      "cell_type": "code",
      "source": [
        "print(\"1:매우만족   2:만족     3:불만족\")\n",
        "sat = int(input(\"서비스가 어떠셨나요(예: 1 또는 2 또는 3):\"))\n",
        "price = int(input(\"음식값을 입력해주세요:(예:8000)\"))\n",
        "if sat == 1:\n",
        "  print('팁', price * 0.2, '원')\n",
        "elif sat ==2:\n",
        "  print('팁', price * 0.1, '원')\n",
        "elif sat ==3:\n",
        "  print('팁', price * 0.05, '원')\n",
        "else:\n",
        "  print('잘못된 입력입니다')"
      ],
      "metadata": {
        "colab": {
          "base_uri": "https://localhost:8080/"
        },
        "id": "hvaf5CA2DdJC",
        "outputId": "a05cbc43-a32b-4ce9-fcca-006dd1c817dc"
      },
      "execution_count": 42,
      "outputs": [
        {
          "output_type": "stream",
          "name": "stdout",
          "text": [
            "1:매우만족   2:만족     3:불만족\n",
            "서비스가 어떠셨나요(예: 1 또는 2 또는 3):1\n",
            "음식값을 입력해주세요:(예:8000)8000\n",
            "팁 1600.0 원\n"
          ]
        }
      ]
    },
    {
      "cell_type": "code",
      "source": [
        "print(\"원하는 메뉴를 선택하세요:\")\n",
        "print(\"1. 떡볶이3000\")\n",
        "print(\"2. 김밥2500\")\n",
        "print(\"3. 튀김3500\")\n",
        "a = int(input(\"번호선택:\"))\n",
        "if a==1:\n",
        "  print(\"당신은 떡볶이를 선택하셨군요!\")\n",
        "  n=int(input(\"떡볶이 몇인분을 주문하시겠습니까?\"))\n",
        "  print(\"총 가격은\", 3000*n)\n",
        "elif a==2:\n",
        "  print(\"당신은 김밥을 선택하셨군요!\")\n",
        "  n=int(input(\"김밥 몇인분을 주문하시겠습니까?\"))\n",
        "  print(\"총 가격은\", 2500*n)\n",
        "elif a==3:\n",
        "  print(\"당신은 튀김을 선택하셨군요!\")\n",
        "  n=int(input(\"튀김 몇인분을 주문하시겠습니까?\"))\n",
        "  print(\"총 가격은\", 3500*n)\n",
        "else:\n",
        "  print(\"1,2,3 중 하나를 선택해주세요\")"
      ],
      "metadata": {
        "colab": {
          "base_uri": "https://localhost:8080/"
        },
        "id": "w8Dj4x2IHweo",
        "outputId": "67a67f19-5466-4b2e-f8b8-30a087b816df"
      },
      "execution_count": 43,
      "outputs": [
        {
          "output_type": "stream",
          "name": "stdout",
          "text": [
            "원하는 메뉴를 선택하세요:\n",
            "1. 떡볶이3000\n",
            "2. 김밥2500\n",
            "3. 튀김3500\n",
            "번호선택:1\n",
            "당신은 떡볶이를 선택하셨군요!\n",
            "떡볶이 몇인분을 주문하시겠습니까?2\n",
            "총 가격은, 3000*n\n"
          ]
        }
      ]
    },
    {
      "cell_type": "code",
      "source": [
        "a = int(input(\"체중을 입력하세요:\"))\n",
        "b = float(input(\"키를 입력하세요:\"))\n",
        "z = a/(b**2)\n",
        "if z<=15:\n",
        "  print(\"당신의 bmi 지수는\" , format(z, \".8f\"), \"이며 정상입니다.\")\n",
        "elif 15<z<=25:\n",
        "  print(\"당신의 bmi 지수는\" , format(z, \".8f\"), \"이며 과체중입니다.\")\n",
        "else:\n",
        "  print(\"당신의 bmi 지수는\" , format(z, \".8f\"), \"이며 비만입니다.\")"
      ],
      "metadata": {
        "colab": {
          "base_uri": "https://localhost:8080/"
        },
        "id": "pkinpDENJyV_",
        "outputId": "3e6920c3-9bd5-4c76-fd60-5aa07f1f74ea"
      },
      "execution_count": 46,
      "outputs": [
        {
          "output_type": "stream",
          "name": "stdout",
          "text": [
            "체중을 입력하세요:88\n",
            "키를 입력하세요:1.8\n",
            "당신의 bmi 지수는 27.16049383 이며 비만입니다.\n"
          ]
        }
      ]
    },
    {
      "cell_type": "code",
      "source": [
        "x = 17\n",
        "if x > 10:\n",
        "  if x % 2 ==0:\n",
        "    print(\"10초과 짝수\")\n",
        "  else:\n",
        "    print(\"10초과 홀수\")\n",
        "else:\n",
        "  print(\"10이하\")"
      ],
      "metadata": {
        "colab": {
          "base_uri": "https://localhost:8080/"
        },
        "id": "zvr3SQ6xLZ3A",
        "outputId": "5cde2212-e179-4c89-a309-2b2608b87204"
      },
      "execution_count": 47,
      "outputs": [
        {
          "output_type": "stream",
          "name": "stdout",
          "text": [
            "10초과 홀수\n"
          ]
        }
      ]
    },
    {
      "cell_type": "code",
      "source": [
        "id = input('아이디를 입력하세요:')\n",
        "level = int(input('회원 레벨을 입력해주세요:'))\n",
        "if id == 'admin':\n",
        "  print(\"모든 콘텐츠 이용가능\")\n",
        "else: \n",
        "  if 2 <= level <= 7:\n",
        "    print(\"일부 콘텐츠 이용가능\") \n",
        "  else:\n",
        "      print(\"콘텐츠 이용불가\")"
      ],
      "metadata": {
        "colab": {
          "base_uri": "https://localhost:8080/"
        },
        "id": "apA17TCWNVSI",
        "outputId": "02d53e30-08e6-4769-f8e8-ed5375c6cf32"
      },
      "execution_count": 53,
      "outputs": [
        {
          "output_type": "stream",
          "name": "stdout",
          "text": [
            "아이디를 입력하세요:rubato\n",
            "회원 레벨을 입력해주세요:3\n",
            "일부 콘텐츠 이용가능\n"
          ]
        }
      ]
    },
    {
      "cell_type": "code",
      "source": [
        "cy = int(input(\"현재년을 입력해주세요:\"))\n",
        "cm = int(input(\"현재월을 입력해주세요:\"))\n",
        "cd = int(input(\"현재일을 입력해주세요:\"))\n",
        "by = int(input(\"출생년을 입력해주세요:\"))\n",
        "bm = int(input(\"출생월을 입력해주세요:\"))\n",
        "bd = int(input(\"출생일을 입력해주세요:\"))\n",
        "if bm < cm:\n",
        "  age = cy - by\n",
        "elif bm == cm:\n",
        "  if bd < cd:\n",
        "    age = cy - by\n",
        "  else:\n",
        "    age = cy - by - 1\n",
        "else:\n",
        "  age = cy - by -1\n",
        "print('---------------------------') \n",
        "print('오늘 날짜 :%d년 %d월 %d일' %(cy,cm,cd))\n",
        "print('오늘 날짜 :%d년 %d월 %d일' %(by,bm,bd))\n",
        "print('---------------------------') \n",
        "print('만 나이:' , age, '세') \n",
        " #print('오늘 날짜 : ' , cy '년' , cm, '월' ,cd, '일')  \n",
        " \n",
        "  "
      ],
      "metadata": {
        "colab": {
          "base_uri": "https://localhost:8080/"
        },
        "id": "ScMvDssYOnhP",
        "outputId": "e10c743b-7f28-41a5-8210-0129ae7c74d8"
      },
      "execution_count": 58,
      "outputs": [
        {
          "output_type": "stream",
          "name": "stdout",
          "text": [
            "현재년을 입력해주세요:2020\n",
            "현재월을 입력해주세요:1\n",
            "현재일을 입력해주세요:27\n",
            "출생년을 입력해주세요:1997\n",
            "출생월을 입력해주세요:5\n",
            "출생일을 입력해주세요:7\n",
            "---------------------------\n",
            "오늘 날짜 :2020년 1월 27일\n",
            "오늘 날짜 :1997년 5월 7일\n",
            "---------------------------\n",
            "만 나이: 22 세\n"
          ]
        }
      ]
    },
    {
      "cell_type": "code",
      "source": [
        "import datetime\n",
        "from pytz import timezone\n",
        "now = datetime.datetime.now(timezone('Asia/Seoul'))\n",
        "if 0 <= now.hour >= 12\n",
        "  print(\"\")"
      ],
      "metadata": {
        "colab": {
          "base_uri": "https://localhost:8080/",
          "height": 137
        },
        "id": "PsPEekupSk24",
        "outputId": "72fb6419-138d-468a-d938-42b5468bc1df"
      },
      "execution_count": 63,
      "outputs": [
        {
          "output_type": "error",
          "ename": "SyntaxError",
          "evalue": "ignored",
          "traceback": [
            "\u001b[0;36m  File \u001b[0;32m\"<ipython-input-63-9bd6144673ae>\"\u001b[0;36m, line \u001b[0;32m4\u001b[0m\n\u001b[0;31m    if 12 < now.hour > 0\u001b[0m\n\u001b[0m                          ^\u001b[0m\n\u001b[0;31mSyntaxError\u001b[0m\u001b[0;31m:\u001b[0m invalid syntax\n"
          ]
        }
      ]
    },
    {
      "cell_type": "code",
      "source": [],
      "metadata": {
        "id": "1JCBIZ9oVZj_"
      },
      "execution_count": null,
      "outputs": []
    }
  ]
}